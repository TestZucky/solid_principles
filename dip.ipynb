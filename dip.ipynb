{
 "cells": [
  {
   "cell_type": "markdown",
   "id": "1a60ef43",
   "metadata": {},
   "source": [
    "#### DIP - Dependency Inversion Principle\n",
    "\n",
    "- High-level modules should not depend on low-level modules. Both should depend on abstractions.\n",
    "- Abstractions should not depend on details. Details should depend on abstractions."
   ]
  },
  {
   "cell_type": "markdown",
   "id": "b7d64277",
   "metadata": {},
   "source": [
    "<b> Violating Code </b>"
   ]
  },
  {
   "cell_type": "code",
   "execution_count": null,
   "id": "f5b92496",
   "metadata": {},
   "outputs": [],
   "source": [
    "class StripePaymentGateway:\n",
    "    def charge(self, amount: float):\n",
    "        print(f\"[Stripe] Charging ${amount} online.\")\n",
    "\n",
    "\n",
    "class PaymentService:\n",
    "    def __init__(self):\n",
    "        self.payment_gateway = StripePaymentGateway()\n",
    "\n",
    "    def process_order(self, amount: float):\n",
    "        self.payment_gateway.charge(amount)\n",
    "\n",
    "\n",
    "service = PaymentService()\n",
    "service.process_order(100)\n"
   ]
  },
  {
   "cell_type": "markdown",
   "id": "a70a3eaa",
   "metadata": {},
   "source": [
    "<b> Cleaner version </b>"
   ]
  },
  {
   "cell_type": "code",
   "execution_count": 1,
   "id": "d9196f73",
   "metadata": {},
   "outputs": [
    {
     "name": "stdout",
     "output_type": "stream",
     "text": [
      "[Stripe] Charging $200 online.\n",
      "[PayPal] Charging $150 online.\n"
     ]
    }
   ],
   "source": [
    "from abc import ABC, abstractmethod\n",
    "\n",
    "# Abstraction\n",
    "class PaymentGateway(ABC):\n",
    "    @abstractmethod\n",
    "    def charge(self, amount: float):\n",
    "        pass\n",
    "\n",
    "\n",
    "# Low-level implementations\n",
    "class StripePaymentGateway(PaymentGateway):\n",
    "    def charge(self, amount: float):\n",
    "        print(f\"[Stripe] Charging ${amount} online.\")\n",
    "\n",
    "\n",
    "class PayPalPaymentGateway(PaymentGateway):\n",
    "    def charge(self, amount: float):\n",
    "        print(f\"[PayPal] Charging ${amount} online.\")\n",
    "\n",
    "\n",
    "# High-level module depends on abstraction\n",
    "class PaymentService:\n",
    "    def __init__(self, payment_gateway: PaymentGateway):\n",
    "        self.payment_gateway = payment_gateway\n",
    "\n",
    "    def process_order(self, amount: float):\n",
    "        self.payment_gateway.charge(amount)\n",
    "\n",
    "\n",
    "# Usage\n",
    "stripe_service = PaymentService(StripePaymentGateway())\n",
    "stripe_service.process_order(200)\n",
    "\n",
    "paypal_service = PaymentService(PayPalPaymentGateway())\n",
    "paypal_service.process_order(150)\n"
   ]
  }
 ],
 "metadata": {
  "kernelspec": {
   "display_name": "base",
   "language": "python",
   "name": "python3"
  },
  "language_info": {
   "codemirror_mode": {
    "name": "ipython",
    "version": 3
   },
   "file_extension": ".py",
   "mimetype": "text/x-python",
   "name": "python",
   "nbconvert_exporter": "python",
   "pygments_lexer": "ipython3",
   "version": "3.12.4"
  }
 },
 "nbformat": 4,
 "nbformat_minor": 5
}
