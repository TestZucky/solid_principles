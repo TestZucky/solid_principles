{
 "cells": [
  {
   "cell_type": "markdown",
   "id": "e9cb64b3",
   "metadata": {},
   "source": [
    "#### LSP (Liskov Substitution principle)\n",
    "\n",
    "- If S is a subtype of T, then objects of type T should be replaceable with objects of type S without changing the correctness of the program.\n"
   ]
  },
  {
   "cell_type": "markdown",
   "id": "b52bdebe",
   "metadata": {},
   "source": [
    "<b> Not following LSP </b>"
   ]
  },
  {
   "cell_type": "code",
   "execution_count": 1,
   "id": "273b2b2e",
   "metadata": {},
   "outputs": [
    {
     "name": "stdout",
     "output_type": "stream",
     "text": [
      "Processing payment of $100...\n",
      "[Stripe] Charging $100 online.\n",
      "Processing payment of $100...\n",
      "Error: Cash on delivery cannot process online payments.\n"
     ]
    }
   ],
   "source": [
    "from abc import ABC, abstractmethod\n",
    "\n",
    "# Base Interface\n",
    "class PaymentGateway(ABC):\n",
    "    @abstractmethod\n",
    "    def charge(self, amount: float):\n",
    "        pass\n",
    "\n",
    "class StripePaymentGateway(PaymentGateway):\n",
    "    def charge(self, amount: float):\n",
    "        print(f\"[Stripe] Charging ${amount} online.\")\n",
    "\n",
    "\n",
    "class CashOnDeliveryPaymentGateway(PaymentGateway):\n",
    "    def charge(self, amount: float):\n",
    "        raise Exception(\"Cash on delivery cannot process online payments.\")\n",
    "\n",
    "\n",
    "# Client code\n",
    "def process_payment(gateway: PaymentGateway, amount: float):\n",
    "    print(f\"Processing payment of ${amount}...\")\n",
    "    gateway.charge(amount)\n",
    "\n",
    "\n",
    "if __name__ == \"__main__\":\n",
    "    gateways = [\n",
    "        StripePaymentGateway(),\n",
    "        CashOnDeliveryPaymentGateway()\n",
    "    ]\n",
    "    \n",
    "    for g in gateways:\n",
    "        try:\n",
    "            process_payment(g, 100)\n",
    "        except Exception as e:\n",
    "            print(f\"Error: {e}\")\n"
   ]
  },
  {
   "cell_type": "markdown",
   "id": "afe71eaf",
   "metadata": {},
   "source": [
    "<b> Improved one </b>"
   ]
  },
  {
   "cell_type": "code",
   "execution_count": null,
   "id": "cd81a659",
   "metadata": {},
   "outputs": [
    {
     "name": "stdout",
     "output_type": "stream",
     "text": [
      "Processing online payment of $200...\n",
      "[Stripe] Charging $200 online.\n",
      "Processing offline payment of $150...\n",
      "[COD] Collecting $150 in cash at delivery.\n"
     ]
    }
   ],
   "source": [
    "from abc import ABC, abstractmethod\n",
    "\n",
    "class PaymentGateway(ABC):\n",
    "    pass\n",
    "\n",
    "\n",
    "class OnlinePaymentGateway(PaymentGateway):\n",
    "    @abstractmethod\n",
    "    def charge(self, amount: float):\n",
    "        pass\n",
    "\n",
    "\n",
    "class OfflinePaymentGateway(PaymentGateway):\n",
    "    @abstractmethod\n",
    "    def collect_cash(self, amount: float):\n",
    "        pass\n",
    "\n",
    "\n",
    "class StripePaymentGateway(OnlinePaymentGateway):\n",
    "    def charge(self, amount: float):\n",
    "        print(f\"[Stripe] Charging ${amount} online.\")\n",
    "\n",
    "\n",
    "class CashOnDeliveryPaymentGateway(OfflinePaymentGateway):\n",
    "    def collect_cash(self, amount: float):\n",
    "        print(f\"[COD] Collecting ${amount} in cash at delivery.\")\n",
    "\n",
    "\n",
    "def process_online_payment(gateway: OnlinePaymentGateway, amount: float):\n",
    "    print(f\"Processing online payment of ${amount}...\")\n",
    "    gateway.charge(amount)\n",
    "\n",
    "\n",
    "def process_offline_payment(gateway: OfflinePaymentGateway, amount: float):\n",
    "    print(f\"Processing offline payment of ${amount}...\")\n",
    "    gateway.collect_cash(amount)\n",
    "\n",
    "\n",
    "if __name__ == \"__main__\":\n",
    "    stripe = StripePaymentGateway()\n",
    "    cod = CashOnDeliveryPaymentGateway()\n",
    "\n",
    "    process_online_payment(stripe, 200)  \n",
    "    process_offline_payment(cod, 150)\n"
   ]
  }
 ],
 "metadata": {
  "kernelspec": {
   "display_name": "base",
   "language": "python",
   "name": "python3"
  },
  "language_info": {
   "codemirror_mode": {
    "name": "ipython",
    "version": 3
   },
   "file_extension": ".py",
   "mimetype": "text/x-python",
   "name": "python",
   "nbconvert_exporter": "python",
   "pygments_lexer": "ipython3",
   "version": "3.12.4"
  }
 },
 "nbformat": 4,
 "nbformat_minor": 5
}
