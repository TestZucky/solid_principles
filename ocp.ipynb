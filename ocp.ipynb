{
 "cells": [
  {
   "cell_type": "markdown",
   "id": "335a8655",
   "metadata": {},
   "source": [
    "### Open/closed Principle (OCP)\n",
    "\n",
    "- Software entities should be open for extension but closed for modification"
   ]
  },
  {
   "cell_type": "code",
   "execution_count": 1,
   "id": "246f8818",
   "metadata": {},
   "outputs": [],
   "source": [
    "class PaymentProcessor:\n",
    "    def pay(self, payment_type):\n",
    "        if payment_type == \"credit_card\":\n",
    "            print(\"Processing credit card payment...\")\n",
    "        elif payment_type == \"paypal\":\n",
    "            print(\"Processing PayPal payment...\")"
   ]
  },
  {
   "cell_type": "markdown",
   "id": "8189af75",
   "metadata": {},
   "source": [
    "<b> Improved </b>"
   ]
  },
  {
   "cell_type": "code",
   "execution_count": 5,
   "id": "5dc3bf10",
   "metadata": {},
   "outputs": [
    {
     "name": "stdout",
     "output_type": "stream",
     "text": [
      "Processing credit card payment...\n"
     ]
    }
   ],
   "source": [
    "from abc import ABC, abstractmethod\n",
    "\n",
    "class PaymentMethod(ABC):\n",
    "    @abstractmethod\n",
    "    def pay(self):\n",
    "        pass\n",
    "\n",
    "\n",
    "class CreditCardPayment(PaymentMethod):\n",
    "    def pay(self):\n",
    "        print(\"Processing credit card payment...\")\n",
    "\n",
    "\n",
    "class PayPalPayment(PaymentMethod):\n",
    "    def pay(self):\n",
    "        print(\"Processing PayPal payment...\")\n",
    "\n",
    "\n",
    "class PaymentProcessor:\n",
    "    def process(self, payment: PaymentMethod):\n",
    "        payment.pay()\n",
    "\n",
    "payment_processor = PaymentProcessor()\n",
    "payment_processor.process(CreditCardPayment())"
   ]
  },
  {
   "cell_type": "code",
   "execution_count": 3,
   "id": "88097c28",
   "metadata": {},
   "outputs": [],
   "source": [
    "# Let suppose we need to add new payment method\n",
    "\n",
    "class UPIPayment(PaymentMethod):\n",
    "    def pay(self):\n",
    "        print(\"Processing UPI payment...\")\n"
   ]
  }
 ],
 "metadata": {
  "kernelspec": {
   "display_name": "base",
   "language": "python",
   "name": "python3"
  },
  "language_info": {
   "codemirror_mode": {
    "name": "ipython",
    "version": 3
   },
   "file_extension": ".py",
   "mimetype": "text/x-python",
   "name": "python",
   "nbconvert_exporter": "python",
   "pygments_lexer": "ipython3",
   "version": "3.12.4"
  }
 },
 "nbformat": 4,
 "nbformat_minor": 5
}
