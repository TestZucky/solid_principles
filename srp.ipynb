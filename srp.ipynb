{
 "cells": [
  {
   "cell_type": "markdown",
   "id": "230401fe",
   "metadata": {},
   "source": [
    "#### SRP (Single Responsibility Principle)\n",
    "\n",
    "- A class, module, or fucntion should have only one reason to change"
   ]
  },
  {
   "cell_type": "code",
   "execution_count": null,
   "id": "8fb2917a",
   "metadata": {},
   "outputs": [],
   "source": [
    "class UserService:\n",
    "    def create_user(self, user_data):\n",
    "        \n",
    "        if not self.validate(user_data):\n",
    "            raise ValueError(\"Invalid data\")\n",
    "                \n",
    "        self.save_to_db(user_data)\n",
    "\n",
    "        self.send_email(user_data[\"email\"])\n",
    "\n",
    "    def validate(self, data):\n",
    "        return \"email\" in data\n",
    "\n",
    "    def save_to_db(self, data):\n",
    "        print(\"Saving to database...\")\n",
    "\n",
    "    def send_email(self, email):\n",
    "        print(f\"Sending welcome email to {email}\")\n"
   ]
  },
  {
   "cell_type": "code",
   "execution_count": 2,
   "id": "61f1b903",
   "metadata": {},
   "outputs": [],
   "source": [
    "class UserValidator:\n",
    "    def validate(self, data):\n",
    "        return \"email\" in data\n",
    "\n",
    "\n",
    "class UserRepository:\n",
    "    def save(self, data):\n",
    "        print(\"Saving to database...\")\n",
    "\n",
    "\n",
    "class EmailService:\n",
    "    def send_welcome(self, email):\n",
    "        print(f\"Sending welcome email to {email}\")\n",
    "\n",
    "\n",
    "class UserService:\n",
    "    def __init__(self, validator, repository, email_service):\n",
    "        self.validator = validator\n",
    "        self.repository = repository\n",
    "        self.email_service = email_service\n",
    "\n",
    "    def create_user(self, user_data):\n",
    "        if not self.validator.validate(user_data):\n",
    "            raise ValueError(\"Invalid data\")\n",
    "        self.repository.save(user_data)\n",
    "        self.email_service.send_welcome(user_data[\"email\"])\n"
   ]
  }
 ],
 "metadata": {
  "kernelspec": {
   "display_name": "base",
   "language": "python",
   "name": "python3"
  },
  "language_info": {
   "codemirror_mode": {
    "name": "ipython",
    "version": 3
   },
   "file_extension": ".py",
   "mimetype": "text/x-python",
   "name": "python",
   "nbconvert_exporter": "python",
   "pygments_lexer": "ipython3",
   "version": "3.12.4"
  }
 },
 "nbformat": 4,
 "nbformat_minor": 5
}
