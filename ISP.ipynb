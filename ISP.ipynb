{
 "cells": [
  {
   "cell_type": "markdown",
   "id": "de4033fd",
   "metadata": {},
   "source": [
    "### ISP - Interface segregation principle\n",
    "\n",
    "- No client should be forced to depend on methods it does not use."
   ]
  },
  {
   "cell_type": "code",
   "execution_count": 2,
   "id": "e36a3d45",
   "metadata": {},
   "outputs": [],
   "source": [
    "from abc import ABC, abstractmethod\n",
    "\n",
    "# Bad: Fat interface\n",
    "class PaymentGateway(ABC):\n",
    "    @abstractmethod\n",
    "    def charge(self, amount: float):\n",
    "        pass\n",
    "\n",
    "    @abstractmethod\n",
    "    def collect_cash(self, amount: float):\n",
    "        pass\n",
    "\n",
    "\n",
    "class StripePaymentGateway(PaymentGateway):\n",
    "    def charge(self, amount: float):\n",
    "        print(f\"[Stripe] Charging ${amount} online.\")\n",
    "\n",
    "    def collect_cash(self, amount: float):\n",
    "        raise NotImplementedError(\"Stripe cannot collect cash payments.\")\n",
    "\n",
    "\n",
    "class CashOnDeliveryPaymentGateway(PaymentGateway):\n",
    "    def charge(self, amount: float):\n",
    "        raise NotImplementedError(\"Cash on delivery cannot process online payments.\")\n",
    "\n",
    "    def collect_cash(self, amount: float):\n",
    "        print(f\"[COD] Collecting ${amount} in cash at delivery.\")\n"
   ]
  },
  {
   "cell_type": "markdown",
   "id": "e28e0a4c",
   "metadata": {},
   "source": [
    "<b> Imporved </b>"
   ]
  },
  {
   "cell_type": "code",
   "execution_count": 3,
   "id": "baeea5fe",
   "metadata": {},
   "outputs": [
    {
     "name": "stdout",
     "output_type": "stream",
     "text": [
      "[Stripe] Charging $200 online.\n",
      "[COD] Collecting $150 in cash at delivery.\n"
     ]
    }
   ],
   "source": [
    "from abc import ABC, abstractmethod\n",
    "\n",
    "class OnlinePaymentGateway(ABC):\n",
    "    @abstractmethod\n",
    "    def charge(self, amount: float):\n",
    "        pass\n",
    "\n",
    "\n",
    "class OfflinePaymentGateway(ABC):\n",
    "    @abstractmethod\n",
    "    def collect_cash(self, amount: float):\n",
    "        pass\n",
    "\n",
    "\n",
    "class StripePaymentGateway(OnlinePaymentGateway):\n",
    "    def charge(self, amount: float):\n",
    "        print(f\"[Stripe] Charging ${amount} online.\")\n",
    "\n",
    "\n",
    "class CashOnDeliveryPaymentGateway(OfflinePaymentGateway):\n",
    "    def collect_cash(self, amount: float):\n",
    "        print(f\"[COD] Collecting ${amount} in cash at delivery.\")\n",
    "\n",
    "\n",
    "def process_online_payment(gateway: OnlinePaymentGateway, amount: float):\n",
    "    gateway.charge(amount)\n",
    "\n",
    "\n",
    "def process_offline_payment(gateway: OfflinePaymentGateway, amount: float):\n",
    "    gateway.collect_cash(amount)\n",
    "\n",
    "\n",
    "if __name__ == \"__main__\":\n",
    "    stripe = StripePaymentGateway()\n",
    "    cod = CashOnDeliveryPaymentGateway()\n",
    "\n",
    "    process_online_payment(stripe, 200)\n",
    "    process_offline_payment(cod, 150)\n"
   ]
  }
 ],
 "metadata": {
  "kernelspec": {
   "display_name": "base",
   "language": "python",
   "name": "python3"
  },
  "language_info": {
   "codemirror_mode": {
    "name": "ipython",
    "version": 3
   },
   "file_extension": ".py",
   "mimetype": "text/x-python",
   "name": "python",
   "nbconvert_exporter": "python",
   "pygments_lexer": "ipython3",
   "version": "3.12.4"
  }
 },
 "nbformat": 4,
 "nbformat_minor": 5
}
